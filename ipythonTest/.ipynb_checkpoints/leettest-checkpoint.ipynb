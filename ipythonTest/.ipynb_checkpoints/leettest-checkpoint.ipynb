{
 "cells": [
  {
   "cell_type": "code",
   "execution_count": 15,
   "id": "105b9127-a27c-417d-ba81-a45c828f82ff",
   "metadata": {},
   "outputs": [],
   "source": [
    "class Solution:\n",
    "    def threeSum(self, nums):\n",
    "        def two_sum(nums, target, excluded_index):\n",
    "            result = []\n",
    "            value_set = set()\n",
    "            for i, val in enumerate(nums):\n",
    "                if i == excluded_index:\n",
    "                    continue\n",
    "                if val in value_set:\n",
    "                    result.append([val, target - val]) \n",
    "                else:\n",
    "                    value_set.add(target - val)\n",
    "            return result\n",
    "        \n",
    "        def remove_duplicate(arr):\n",
    "            arr = [tuple(sorted(i)) for i in arr]\n",
    "            return list(set(arr))\n",
    "        \n",
    "        if len(nums) < 3:\n",
    "            return []        \n",
    "        nums.sort()\n",
    "        result = []\n",
    "        ans = []\n",
    "        \n",
    "        for i, value in enumerate(nums):\n",
    "            target = -value\n",
    "            two_sum_pair = two_sum(nums, target, i)\n",
    "            \n",
    "            if len(two_sum_pair) > 0:\n",
    "                for i in two_sum_pair:\n",
    "                    i.append(value)\n",
    "                    result.append(i)\n",
    "        \n",
    "        return remove_duplicate(result)\n",
    "        "
   ]
  },
  {
   "cell_type": "code",
   "execution_count": null,
   "id": "2056d4cc-5d41-409c-8ed4-d7c8da322ae4",
   "metadata": {},
   "outputs": [],
   "source": []
  },
  {
   "cell_type": "code",
   "execution_count": 16,
   "id": "3a689797-7213-43c6-9025-7778af23c742",
   "metadata": {},
   "outputs": [],
   "source": [
    "a = Solution()"
   ]
  },
  {
   "cell_type": "code",
   "execution_count": 17,
   "id": "f93188ab-88fe-4109-a9cc-52039ef7c382",
   "metadata": {},
   "outputs": [
    {
     "name": "stdout",
     "output_type": "stream",
     "text": [
      "[(-1, 0, 1), (-1, -1, 2)]\n"
     ]
    }
   ],
   "source": [
    "print(a.threeSum([-1,0,1,2,-1,-4]))"
   ]
  },
  {
   "cell_type": "code",
   "execution_count": 18,
   "id": "85d9c8b9-36a0-4fff-a416-dbcfc909ac35",
   "metadata": {},
   "outputs": [
    {
     "name": "stdout",
     "output_type": "stream",
     "text": [
      "[(-3, -1, 4), (-1, 0, 1), (-4, 1, 3), (-2, 0, 2), (-1, -1, 2), (-3, 0, 3), (-4, 0, 4), (-2, -1, 3), (-3, 1, 2)]\n"
     ]
    }
   ],
   "source": [
    "print(a.threeSum([-1,0,1,2,-1,-4,-2,-3,3,0,4]))"
   ]
  },
  {
   "cell_type": "code",
   "execution_count": 27,
   "id": "a0ac3a74-6f44-4858-a73f-431b785d92ba",
   "metadata": {},
   "outputs": [],
   "source": [
    "a = [2,3,4, 0]"
   ]
  },
  {
   "cell_type": "code",
   "execution_count": 30,
   "id": "d6206ff1-7b9d-4301-8e64-c84dd8337c0a",
   "metadata": {},
   "outputs": [
    {
     "data": {
      "text/plain": [
       "[0, 2, 3]"
      ]
     },
     "execution_count": 30,
     "metadata": {},
     "output_type": "execute_result"
    }
   ],
   "source": [
    "a[:-1]"
   ]
  },
  {
   "cell_type": "code",
   "execution_count": 29,
   "id": "5656ec5a-f0f1-4256-ad28-f2d7658b2021",
   "metadata": {},
   "outputs": [
    {
     "data": {
      "text/plain": [
       "[0, 2, 3, 4]"
      ]
     },
     "execution_count": 29,
     "metadata": {},
     "output_type": "execute_result"
    }
   ],
   "source": [
    "a"
   ]
  },
  {
   "cell_type": "code",
   "execution_count": 24,
   "id": "4cbd33c7-2585-4ea1-af0b-1c8c86c20d72",
   "metadata": {},
   "outputs": [
    {
     "data": {
      "text/plain": [
       "[3, 4]"
      ]
     },
     "execution_count": 24,
     "metadata": {},
     "output_type": "execute_result"
    }
   ],
   "source": [
    "a[1:]"
   ]
  }
 ],
 "metadata": {
  "kernelspec": {
   "display_name": "Python 3 (ipykernel)",
   "language": "python",
   "name": "python3"
  },
  "language_info": {
   "codemirror_mode": {
    "name": "ipython",
    "version": 3
   },
   "file_extension": ".py",
   "mimetype": "text/x-python",
   "name": "python",
   "nbconvert_exporter": "python",
   "pygments_lexer": "ipython3",
   "version": "3.9.7"
  }
 },
 "nbformat": 4,
 "nbformat_minor": 5
}
